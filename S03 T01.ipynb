{
 "cells": [
  {
   "cell_type": "code",
   "execution_count": 21,
   "metadata": {},
   "outputs": [
    {
     "name": "stdout",
     "output_type": "stream",
     "text": [
      "(['1T', 'Gener', 'Febrer', 'Març'], ['2T', 'Abril', 'Maig', 'Juny'], ['3T', 'Juliol', 'Agost', 'Setembre'], ['4T', 'Octubre', 'Novembre', 'Desembre'])\n",
      "['1T', 'Gener', 'Febrer', 'Març']\n",
      "['2T', 'Abril', 'Maig', 'Juny']\n",
      "['3T', 'Juliol', 'Agost', 'Setembre']\n",
      "['4T', 'Octubre', 'Novembre', 'Desembre']\n",
      "['Gener', 'Febrer', 'Març']\n",
      "['Abril', 'Maig', 'Juny']\n",
      "['Juliol', 'Agost', 'Setembre']\n",
      "['Octubre', 'Novembre', 'Desembre']\n"
     ]
    }
   ],
   "source": [
    "#Exercici 1\n",
    "#Crea una llista que agrupi els mesos de l’any en trimestres (1T: Gener, Febrer i Març, 2T: Abril, Maig, Juny...), és a dir, una llista amb 4 llistes dins.\n",
    "\n",
    "llista_any = (['1T','Gener','Febrer','Març'], \n",
    "              ['2T','Abril','Maig','Juny'], \n",
    "              ['3T','Juliol','Agost','Setembre'], \n",
    "              ['4T','Octubre','Novembre','Desembre'])\n",
    "\n",
    "print(llista_any)\n",
    "print(llista_any[0])\n",
    "print(llista_any[1])\n",
    "print(llista_any[2])\n",
    "print(llista_any[3])\n",
    "print(llista_any[0][1:4])\n",
    "print(llista_any[1][1:4])\n",
    "print(llista_any[2][1:4])\n",
    "print(llista_any[3][1:4])"
   ]
  },
  {
   "cell_type": "code",
   "execution_count": 31,
   "metadata": {},
   "outputs": [
    {
     "name": "stdout",
     "output_type": "stream",
     "text": [
      "Febrer\n",
      "['Gener', 'Febrer', 'Març']\n",
      "Setembre\n",
      "Octubre\n"
     ]
    }
   ],
   "source": [
    "#Exercici 2\n",
    "#Crea un codi que et permeti accedir a:\n",
    "\n",
    "##El segon mes del primer trimestre\n",
    "print(llista_any[0][2])\n",
    "\n",
    "##Els mesos del primer trimestre\n",
    "print(llista_any[0][1:4])\n",
    "\n",
    "##Setembre i octubre\n",
    "print(llista_any[2][3])\n",
    "print(llista_any[3][1])"
   ]
  },
  {
   "cell_type": "code",
   "execution_count": 31,
   "metadata": {},
   "outputs": [
    {
     "name": "stdout",
     "output_type": "stream",
     "text": [
      "Hi ha  12 numeros\n",
      "El numero 3 apareix 2 vegad(a/e)s\n",
      "El numero 3 apareix 2 vegad(a/e)s i el numero 4 apareix 1 vegad(a/e)s\n",
      "El número més gran és 20\n",
      "Els 3 números més petits són  [0, 1, 2]\n",
      "El rang de la llista [0, 1, 2, 3, 3, 4, 5, 5, 7, 8, 19, 20] és 20\n"
     ]
    }
   ],
   "source": [
    "#Exercici 3\n",
    "#Crea una llista amb nombres desordenats i respon a les següents preguntes:\n",
    "\n",
    "nombres = [8,3,1,5,7,3,20,5,2,19,4,0]\n",
    "\n",
    "##Quants números hi ha?\n",
    "print(\"Hi ha \",len(nombres),\"numeros\")\n",
    "\n",
    "##Quantes vegades apareix el número 3\n",
    "n_vegades = int(nombres.count(3))\n",
    "print(\"El numero 3 apareix {} vegad(a/e)s\".format(n_vegades)) \n",
    "\n",
    "##Quantes vegades apareixen els nombres 3 i 4?\n",
    "n_3 = int(nombres.count(3))\n",
    "n_4 = int(nombres.count(4))\n",
    "\n",
    "print(\"El numero 3 apareix {} vegad(a/e)s\".format(n_3),\"i el numero 4 apareix {} vegad(a/e)s\".format(n_4)) \n",
    "\n",
    "##Quin és el número més gran?\n",
    "print(\"El número més gran és\",max(nombres))\n",
    "\n",
    "##Quins són els 3 números més petits?\n",
    "nombres.sort()\n",
    "print(\"Els 3 números més petits són \",nombres[0:3])\n",
    "\n",
    "##Quin és el rang d’aquesta llista?\n",
    "print(\"El rang de la llista\",nombres,\"és\",int(max(nombres)-min(nombres)))\n",
    "\n",
    "\n"
   ]
  },
  {
   "cell_type": "code",
   "execution_count": 205,
   "metadata": {},
   "outputs": [
    {
     "name": "stdout",
     "output_type": "stream",
     "text": [
      "Les peres han costat 1.98 €\n",
      "S'han comprat 23 fruites\n",
      "La fruita més cara: Taronges\n"
     ]
    }
   ],
   "source": [
    "#Exercici 4\n",
    "#Crea un diccionari de la següent forma i respon a les preguntes:\n",
    "\n",
    "compra = { \"Pomes\" : {\"Qty\": 5, \"€\": 0.42}, \n",
    "           \"Peres\" : {\"Qty\": 3, \"€\": 0.66}, \n",
    "           \"Taronges\" : {\"Qty\": 2, \"€\": 1.02}, \n",
    "           \"Kiwis\" : {\"Qty\": 6, \"€\": 0.55},\n",
    "           \"Pressecs\" : {\"Qty\": 4, \"€\": 0.75} }\n",
    "\n",
    "##Afegeix alguna fruita més\n",
    "fruita = {\"Prunes\" : {\"Qty\": 3, \"€\": 0.44}}\n",
    "compra.update(fruita)\n",
    "\n",
    "##Quant han costat les peres en total?\n",
    "qty = compra.get(\"Peres\").get(\"Qty\")\n",
    "prz = compra.get(\"Peres\").get(\"€\")\n",
    "print(\"Les peres han costat\",qty * prz,\"€\")\n",
    "\n",
    "##Quantes fruites hem comprat en total?\n",
    "\n",
    "total = 0\n",
    "\n",
    "for p_fruita, p_info in compra.items(): \n",
    "    total += int(p_info.get(\"Qty\"))\n",
    "\n",
    "print (\"S'han comprat\",total,\"fruites\")\n",
    "\n",
    "##Quina és la fruita més cara?\n",
    "max_fruita = 0\n",
    "n_fruita = \"\"\n",
    "\n",
    "for p_fruita, p_info in compra.items():\n",
    "    if (max_fruita < p_info.get(\"€\")):\n",
    "        max_fruita = p_info.get(\"€\")\n",
    "        n_fruita = p_fruita\n",
    "        \n",
    "print(\"La fruita més cara:\",n_fruita)\n"
   ]
  },
  {
   "cell_type": "code",
   "execution_count": null,
   "metadata": {},
   "outputs": [],
   "source": []
  },
  {
   "cell_type": "code",
   "execution_count": null,
   "metadata": {},
   "outputs": [],
   "source": []
  },
  {
   "cell_type": "code",
   "execution_count": null,
   "metadata": {},
   "outputs": [],
   "source": []
  }
 ],
 "metadata": {
  "kernelspec": {
   "display_name": "Python 3",
   "language": "python",
   "name": "python3"
  },
  "language_info": {
   "codemirror_mode": {
    "name": "ipython",
    "version": 3
   },
   "file_extension": ".py",
   "mimetype": "text/x-python",
   "name": "python",
   "nbconvert_exporter": "python",
   "pygments_lexer": "ipython3",
   "version": "3.8.3"
  }
 },
 "nbformat": 4,
 "nbformat_minor": 4
}
